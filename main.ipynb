{
 "cells": [
  {
   "cell_type": "code",
   "execution_count": null,
   "metadata": {},
   "outputs": [],
   "source": [
    "# Import necessary libraries\n",
    "import pandas as pd\n",
    "import matplotlib.pyplot as plt"
   ]
  },
  {
   "cell_type": "code",
   "execution_count": null,
   "metadata": {},
   "outputs": [],
   "source": [
    "# Function to read and process the file\n",
    "def read_and_process_file(filepath):\n",
    "    # Read the file\n",
    "    df = pd.read_csv(filepath, header=0)\n",
    "    # Remove leading and trailing spaces from column names\n",
    "    df.columns = df.columns.str.strip()\n",
    "    # Parse 'Time' to datetime format if necessary\n",
    "    df['Time'] = pd.to_datetime(df['Time'], format='%H:%M:%S')\n",
    "    return df"
   ]
  },
  {
   "cell_type": "code",
   "execution_count": null,
   "metadata": {},
   "outputs": [],
   "source": [
    "# Load the data from both files\n",
    "file1 = 'network_details_youtube.txt'\n",
    "file2 = 'network_details_download.txt'\n",
    "df1 = read_and_process_file(file1)\n",
    "df2 = read_and_process_file(file2)"
   ]
  },
  {
   "cell_type": "code",
   "execution_count": null,
   "metadata": {},
   "outputs": [],
   "source": [
    "plt.rcParams.update({'font.size': 16})"
   ]
  },
  {
   "cell_type": "code",
   "execution_count": null,
   "metadata": {},
   "outputs": [],
   "source": [
    "# Plotting function for each statistic\n",
    "def plot_statistic(stat, df1, df2, downsample_factor=100):\n",
    "    plt.figure(figsize=(14, 7))\n",
    "    # Only take every nth row based on the downsample factor\n",
    "    df1_sampled = df1[stat][::downsample_factor]\n",
    "    df2_sampled = df2[stat][::downsample_factor]\n",
    "    plt.plot(df1_sampled.index, df1_sampled, label=f'Youtube {stat}', linewidth=1)\n",
    "    plt.plot(df2_sampled.index, df2_sampled, label=f'Download {stat}', linestyle='--', linewidth=1)\n",
    "    plt.title(f'Comparison of {stat}')\n",
    "    plt.xlabel('Index (Row Number)')\n",
    "    plt.ylabel(stat)\n",
    "    plt.legend()\n",
    "    plt.grid(True)\n",
    "    plt.savefig(f'{stat.replace(\"/sec\", \"\").replace(\" \", \"_\")}_comparison.pdf', bbox_inches='tight', pad_inches=0)\n",
    "    plt.show()"
   ]
  },
  {
   "cell_type": "code",
   "execution_count": null,
   "metadata": {},
   "outputs": [],
   "source": [
    "# Plotting TCP and UDP in one graph\n",
    "def plot_tcp_udp(df1, df2, downsample_factor=100):\n",
    "    plt.figure(figsize=(14, 7))\n",
    "    df1_tcp_sampled = df1['TCP (%)'][::downsample_factor]\n",
    "    df1_udp_sampled = df1['UDP (%)'][::downsample_factor]\n",
    "    df2_tcp_sampled = df2['TCP (%)'][::downsample_factor]\n",
    "    df2_udp_sampled = df2['UDP (%)'][::downsample_factor]\n",
    "    plt.plot(df1_tcp_sampled.index, df1_tcp_sampled, label='Youtube TCP (%)')\n",
    "    plt.plot(df1_udp_sampled.index, df1_udp_sampled, label='Youtube UDP (%)')\n",
    "    plt.plot(df2_tcp_sampled.index, df2_tcp_sampled, label='Download TCP (%)', linestyle='--')\n",
    "    plt.plot(df2_udp_sampled.index, df2_udp_sampled, label='Download UDP (%)', linestyle='--')\n",
    "    plt.title('Comparison of TCP and UDP Percentages')\n",
    "    plt.xlabel('Index (Row Number)')\n",
    "    plt.ylabel('Percentage')\n",
    "    plt.legend()\n",
    "    plt.grid(True)\n",
    "    plt.savefig('TCP_UDP_comparison.pdf', bbox_inches='tight', pad_inches=0)\n",
    "    plt.show()"
   ]
  },
  {
   "cell_type": "code",
   "execution_count": null,
   "metadata": {},
   "outputs": [],
   "source": [
    "# Plot Network Utilization\n",
    "plot_statistic('Network Utilization (%)', df1, df2)"
   ]
  },
  {
   "cell_type": "code",
   "execution_count": null,
   "metadata": {},
   "outputs": [],
   "source": [
    "# Plot Total Bytes Received\n",
    "plot_statistic('Total Bytes Received', df1, df2)"
   ]
  },
  {
   "cell_type": "code",
   "execution_count": null,
   "metadata": {},
   "outputs": [],
   "source": [
    "# Plot Packets Received/sec\n",
    "plot_statistic('Packets Received/sec', df1, df2)"
   ]
  },
  {
   "cell_type": "code",
   "execution_count": null,
   "metadata": {},
   "outputs": [],
   "source": [
    "# Plot TCP and UDP \n",
    "plot_tcp_udp(df1, df2)"
   ]
  }
 ],
 "metadata": {
  "kernelspec": {
   "display_name": ".venv",
   "language": "python",
   "name": "python3"
  },
  "language_info": {
   "codemirror_mode": {
    "name": "ipython",
    "version": 3
   },
   "file_extension": ".py",
   "mimetype": "text/x-python",
   "name": "python",
   "nbconvert_exporter": "python",
   "pygments_lexer": "ipython3",
   "version": "3.12.2"
  }
 },
 "nbformat": 4,
 "nbformat_minor": 2
}
